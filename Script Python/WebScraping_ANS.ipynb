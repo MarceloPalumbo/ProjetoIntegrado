{
 "cells": [
  {
   "cell_type": "markdown",
   "id": "433509d0",
   "metadata": {},
   "source": [
    "### Objeto \n",
    "\n",
    "\n",
    "O objetivo desse script é realizar a coleta dos arquivos referente aos beneficiários ativos na saúde suplementar disponibilizados pela ANS através do site de dados abertos do governo https://dadosabertos.ans.gov.br. <br>\n",
    "\n",
    "Além disso os dados coletados serão tratados, validados com os dados que já foram carregados no BD, para assim, serem carregados na tabela do banco de dados.\n",
    "\n"
   ]
  },
  {
   "cell_type": "code",
   "execution_count": 9,
   "id": "4cb9faf5",
   "metadata": {
    "ExecuteTime": {
     "end_time": "2023-04-11T22:30:37.428468Z",
     "start_time": "2023-04-11T22:30:36.819918Z"
    }
   },
   "outputs": [],
   "source": [
    "from bs4 import BeautifulSoup\n",
    "import requests\n",
    "import pandas as pd\n",
    "import numpy as np\n",
    "#import zipfile as zf\n",
    "import os\n",
    "from io import BytesIO\n",
    "import warnings\n",
    "import mysql.connector\n",
    "from mysql.connector import Error\n",
    "import MySQLdb\n",
    "\n",
    "warnings.filterwarnings('ignore')"
   ]
  },
  {
   "cell_type": "code",
   "execution_count": 10,
   "id": "5c092aea",
   "metadata": {
    "ExecuteTime": {
     "end_time": "2023-04-11T22:33:50.913625Z",
     "start_time": "2023-04-11T22:33:50.856214Z"
    }
   },
   "outputs": [],
   "source": [
    "from IPython import get_ipython\n",
    "from nbformat import read\n",
    "from IPython.core.interactiveshell import InteractiveShell"
   ]
  },
  {
   "cell_type": "code",
   "execution_count": 11,
   "id": "6ebbdbf8",
   "metadata": {},
   "outputs": [],
   "source": [
    "def dadosDB():\n",
    "    '''\n",
    "    Efetua a leitura do arquivo com as informações necessárias para acessar o banco de dados\n",
    "    e criar o conector para acessar o banco de dados.\n",
    "    '''\n",
    "    global con\n",
    "    with open('./pass/pass.txt') as file:\n",
    "        lista = file.readlines()\n",
    "        lista = list(x.replace('\\n', '') for x in lista)\n",
    "    con = mysql.connector.connect(host=lista[0], database=lista[1], user=lista[2], password=lista[3])\n",
    "    return con"
   ]
  },
  {
   "cell_type": "code",
   "execution_count": 12,
   "id": "0ec5e67a",
   "metadata": {},
   "outputs": [],
   "source": [
    "def conectar():\n",
    "    '''\n",
    "    Efetua a conexão com o banco de dados.\n",
    "    Lê os dados necessário para conexão na função dadosDB().\n",
    "    '''\n",
    "    try:\n",
    "        global con, cursor\n",
    "        con = dadosDB()\n",
    "        cursor = con.cursor()\n",
    "        print('Conectado!')\n",
    "    except Error as erro:\n",
    "        print('Erro de conexão')"
   ]
  },
  {
   "cell_type": "code",
   "execution_count": 13,
   "id": "fe9cafce",
   "metadata": {},
   "outputs": [],
   "source": [
    "def finalizar():\n",
    "    '''\n",
    "    Irá finalizar a conexão após realizar a solicitação no DB.\n",
    "    '''\n",
    "    #dadosDB()\n",
    "    if con.is_connected():\n",
    "        cursor.close()\n",
    "        con.close()\n",
    "        print('Conexão encerrada!')"
   ]
  },
  {
   "cell_type": "code",
   "execution_count": 14,
   "id": "2c9f1d50",
   "metadata": {},
   "outputs": [],
   "source": [
    "def AnoMes_Distinct():\n",
    "    '''\n",
    "    Query que irá trazer de forma distinta os meses que foram  importados (Campo AnoMes da tabela beneficiariosconsolidado)\n",
    "    '''\n",
    "    global AnoMes\n",
    "    consulta_sql = \"select distinct AnoMes from beneficiariosconsolidadoUF\"\n",
    "    dfa = pd.read_sql(consulta_sql, dadosDB())\n",
    "    print('Consulta no banco de dados realizada!\\n')\n",
    "    AnoMes = list(str(x) for x in dfa['AnoMes']) #pegando a coluna AnoMes do df e passando para uma lista\n",
    "    #finalizar()\n",
    "    return AnoMes"
   ]
  },
  {
   "cell_type": "code",
   "execution_count": 15,
   "id": "9d3affd8",
   "metadata": {},
   "outputs": [],
   "source": [
    "def importar_base(base):\n",
    "    '''\n",
    "    Função que irá importar para a tabela beneficiariosconsolidado do banco de dados a base de beneficiarios que foi \n",
    "    carregar e tratada.\n",
    "    '''\n",
    "    try:\n",
    "        conectar()\n",
    "        cursor = con.cursor()\n",
    "        print('Iniciando o processo de importação no Banco de Dados.\\n')\n",
    "        for x in base.index:\n",
    "            sql = \"\"\"\n",
    "                INSERT INTO BeneficiariosConsolidadoUF (AnoMes, UF, Sexo, Faixa_Etaria,\n",
    "                Cobertura_Assitencial_Plan, Tipo_Vinculo, Qtd_Benef_Ativos, Qtd_Benef_Aderidos, Qtd_Benef_Cancelados)\n",
    "                values(\"%s\", \"%s\", \"%s\", \"%s\", \"%s\", \"%s\", \"%s\", \"%s\", \"%s\");\n",
    "                \"\"\" % (base['AnoMes'][x], base['UF'][x], base['Sexo'][x],\n",
    "                       base['Faixa_Etaria'][x], base['Cobertura_Assitencial_Plan'][x], base['Tipo_Vinculo'][x], base['Qtd_Benef_Ativos'][x], \n",
    "                       base['Qtd_Benef_Aderidos'][x], base['Qtd_Benef_Cancelados'][x])\n",
    "            cursor.execute(sql)\n",
    "        con.commit()\n",
    "        print('Atualização da base de dados realizada!')\n",
    "    except MySQLdb.ProgrammingError as error :\n",
    "        print(\"Database Failed!!\")\n",
    "        con.rollback()\n",
    "    finally:\n",
    "        finalizar() "
   ]
  },
  {
   "cell_type": "code",
   "execution_count": 16,
   "id": "58a39f10",
   "metadata": {},
   "outputs": [],
   "source": [
    "def select_base():\n",
    "    global baseDB\n",
    "    #planos = pd.DataFrame()\n",
    "    consulta = \"select * from BeneficiariosConsolidadoUF\"\n",
    "    baseDB = pd.read_sql(consulta, dadosDB())\n",
    "    return baseDB"
   ]
  },
  {
   "cell_type": "code",
   "execution_count": 9,
   "id": "8be07764",
   "metadata": {
    "ExecuteTime": {
     "end_time": "2023-04-11T22:36:55.861673Z",
     "start_time": "2023-04-11T22:36:55.849509Z"
    }
   },
   "outputs": [],
   "source": [
    "def temp(tag_meses, escolha):\n",
    "    # Função temporaria que irá definir quantos meses serão executados para carregar no DB.\n",
    "    # Devido o processo ser lento, preciso implentar essa função para particionar as cargas\n",
    "    # Recebe as variaveis escolha (indica quantos meses será processado) e tag_meses(variável com os meses que tem para\n",
    "    # para processar)\n",
    "    tag_meses = tag_meses[0:escolha]\n",
    "    return tag_meses"
   ]
  },
  {
   "cell_type": "code",
   "execution_count": 17,
   "id": "e51e05ba",
   "metadata": {
    "ExecuteTime": {
     "end_time": "2023-04-11T22:39:40.356749Z",
     "start_time": "2023-04-11T22:39:40.345356Z"
    }
   },
   "outputs": [],
   "source": [
    "def web_scraping_meses():\n",
    "    '''\n",
    "    Função que irá acessar o site https://dadosabertos.ans.gov.br/FTP/PDA/informacoes_consolidadas_de_beneficiarios/,\n",
    "    percorrer os links referente aos meses e salvar em uma variável \n",
    "    '''\n",
    "    global tag_meses\n",
    "    #escolha = int(input('Quantos meses serão processados: '))\n",
    "    html = requests.get(\"https://dadosabertos.ans.gov.br/FTP/PDA/informacoes_consolidadas_de_beneficiarios/\").content\n",
    "    soup = BeautifulSoup(html, 'html.parser')\n",
    "    tags = soup.find_all('a') # salvando as tags a\n",
    "    print('Analizados os links na página web.\\n')\n",
    "    tag_meses = []\n",
    "    AnoMes = AnoMes_Distinct()\n",
    "    for tag in tags:\n",
    "        tag_meses.append(tag.getText()) # salvando os textos que estão dentro das tags\n",
    "    tag_meses = list(filter(lambda x: x[0:1].lower() in '20', tag_meses)) # separando apenas as strings que começa com '20'\n",
    "    tag_meses = [x.rstrip('/') for x in tag_meses] # removendo a / no final da string\n",
    "    tag_meses = [x for x in tag_meses if x not in AnoMes] # removendo o AnoMes que já está processado no banco\n",
    "    #tag_meses = temp(tag_meses, escolha)\n",
    "    print('Meses validados e separados para processamento.\\n')\n",
    "    # arquivos = link_meses(tag_meses)\n",
    "    return tag_meses"
   ]
  },
  {
   "cell_type": "code",
   "execution_count": 11,
   "id": "aa2cef02",
   "metadata": {
    "ExecuteTime": {
     "end_time": "2023-04-11T22:39:41.906153Z",
     "start_time": "2023-04-11T22:39:41.897904Z"
    }
   },
   "outputs": [],
   "source": [
    "def web_scraping_files(tag_meses, x):\n",
    "    '''\n",
    "    Função que irá pegar os valores da lista tag_meses que foi salvo no função web_scraping_meses e percorrer cada string\n",
    "    para ir na página web referente aquele link e separar os links (nomes) dos arquivos que deverá realizar o download.\n",
    "    '''\n",
    "    global arquivos\n",
    "    link = 'https://dadosabertos.ans.gov.br/FTP/PDA/informacoes_consolidadas_de_beneficiarios/'\n",
    "    #for x in tag_meses:\n",
    "    html_m = requests.get(f\"{link}{x}/\").content\n",
    "    soup = BeautifulSoup(html_m, 'html.parser')\n",
    "    tags_m = soup.find_all('a')\n",
    "    tag_arquivos = []\n",
    "    # print(soup.find_all('a'))\n",
    "    for tag in tags_m:\n",
    "        tag_arquivos.append(tag.getText()) # para abrir a tag\n",
    "        #print(tag.getText()) # para abrir o texto da tag\n",
    "    arquivos = list(filter(lambda x: x[0:4].lower() in 'ben2', tag_arquivos))\n",
    "    print(f'Arquivos {arquivos} estão prontos para processamento.\\n')\n",
    "    return arquivos"
   ]
  },
  {
   "cell_type": "code",
   "execution_count": 12,
   "id": "6b1edab6",
   "metadata": {
    "ExecuteTime": {
     "end_time": "2023-04-11T22:39:42.395827Z",
     "start_time": "2023-04-11T22:39:42.385871Z"
    }
   },
   "outputs": [],
   "source": [
    "def import_files(arquivos, x, y):\n",
    "    '''\n",
    "    Efetua o donwload do arquivo e carrega em um dataframe temporário.\n",
    "    '''\n",
    "    global temp_df, f\n",
    "    #for y in arquivos:\n",
    "    https = f'https://dadosabertos.ans.gov.br/FTP/PDA/informacoes_consolidadas_de_beneficiarios/{x}/{y}'\n",
    "    file_zip = BytesIO(requests.get(https).content)\n",
    "    with zf.ZipFile(file_zip) as z:\n",
    "        temp = z.namelist()\n",
    "        with z.open(f'{temp[0]}') as f:\n",
    "            temp_df = pd.read_csv(f, sep=\";\", encoding = 'latin')\n",
    "    return temp_df"
   ]
  },
  {
   "cell_type": "code",
   "execution_count": 13,
   "id": "ba6ec3a0",
   "metadata": {
    "ExecuteTime": {
     "end_time": "2023-04-12T02:38:15.632107Z",
     "start_time": "2023-04-12T02:38:15.626101Z"
    }
   },
   "outputs": [],
   "source": [
    "def web_scraping():\n",
    "    '''\n",
    "    Função que unifica todos os processos de ETL para importação na tabela beneficiáriosconsolidado do DB.\n",
    "    '''\n",
    "    web_scraping_meses()\n",
    "    for x in tag_meses:\n",
    "        base = pd.DataFrame()\n",
    "        web_scraping_files(tag_meses, x)        \n",
    "        for y in arquivos:\n",
    "            import_files(arquivos, x, y)\n",
    "            group = temp_df.groupby([ '#ID_CMPT_MOVEL', 'CD_OPERADORA', 'SG_UF', 'TP_SEXO', 'DE_FAIXA_ETARIA', \n",
    "                                     'COBERTURA_ASSIST_PLAN', 'TIPO_VINCULO'])['QT_BENEFICIARIO_ATIVO', 'QT_BENEFICIARIO_ADERIDO',\n",
    "                                     'QT_BENEFICIARIO_CANCELADO'].sum().reset_index()\n",
    "            base = base.append(group, ignore_index=True)\n",
    "\n",
    "            # print(f'O arquivo {y} tem {temp_df.shape[0]} registros, totalizando {df.shape[0]} registro na tabela final.\\n')\n",
    "        base.rename(\n",
    "                columns= {'#ID_CMPT_MOVEL': 'AnoMes', 'CD_OPERADORA': 'CD_Operadora', 'SG_UF': 'UF', 'TP_SEXO': 'Sexo',\n",
    "                          'DE_FAIXA_ETARIA': 'Faixa_Etaria',\n",
    "                          'COBERTURA_ASSIST_PLAN': 'Cobertura_Assitencial_Plan','TIPO_VINCULO': 'Tipo_Vinculo',\n",
    "                          'QT_BENEFICIARIO_ATIVO': 'Qtd_Benef_Ativos', 'QT_BENEFICIARIO_ADERIDO': 'Qtd_Benef_Aderidos',\n",
    "                          'QT_BENEFICIARIO_CANCELADO': 'Qtd_Benef_Cancelados'}, inplace = True)\n",
    "        base.to_csv(f\"D:/Arquivos/{x}.csv\")\n",
    "        base = base.groupby(['AnoMes', 'UF', 'Sexo', 'Faixa_Etaria', 'Cobertura_Assitencial_Plan', \n",
    "                                'Tipo_Vinculo'])['Qtd_Benef_Ativos', 'Qtd_Benef_Aderidos',\n",
    "                                     'Qtd_Benef_Cancelados'].sum().reset_index()\n",
    "        importar_base(base)\n"
   ]
  },
  {
   "cell_type": "code",
   "execution_count": 20,
   "id": "f6dcf597",
   "metadata": {
    "ExecuteTime": {
     "end_time": "2023-04-12T02:39:47.500798Z",
     "start_time": "2023-04-12T02:38:20.427620Z"
    }
   },
   "outputs": [
    {
     "name": "stdout",
     "output_type": "stream",
     "text": [
      "Analizados os links na página web.\n",
      "\n",
      "Consulta no banco de dados realizada!\n",
      "\n",
      "Meses validados e separados para processamento.\n",
      "\n",
      "Arquivos ['ben202302_AC.zip', 'ben202302_AL.zip', 'ben202302_AM.zip', 'ben202302_AP.zip', 'ben202302_BA.zip', 'ben202302_CE.zip', 'ben202302_DF.zip', 'ben202302_ES.zip', 'ben202302_GO.zip', 'ben202302_MA.zip', 'ben202302_MG.zip', 'ben202302_MS.zip', 'ben202302_MT.zip', 'ben202302_PA.zip', 'ben202302_PB.zip', 'ben202302_PE.zip', 'ben202302_PI.zip', 'ben202302_PR.zip', 'ben202302_RJ.zip', 'ben202302_RN.zip', 'ben202302_RO.zip', 'ben202302_RR.zip', 'ben202302_RS.zip', 'ben202302_SC.zip', 'ben202302_SE.zip', 'ben202302_SP.zip', 'ben202302_TO.zip', 'ben202302_XX.zip'] estão prontos para processamento.\n",
      "\n",
      "Conectado!\n",
      "Iniciando o processo de importação no Banco de Dados.\n",
      "\n",
      "Atualização da base de dados realizada!\n",
      "Conexão encerrada!\n",
      "Arquivos ['ben202303_AC.zip', 'ben202303_AL.zip', 'ben202303_AM.zip', 'ben202303_AP.zip', 'ben202303_BA.zip', 'ben202303_CE.zip', 'ben202303_DF.zip', 'ben202303_ES.zip', 'ben202303_GO.zip', 'ben202303_MA.zip', 'ben202303_MG.zip', 'ben202303_MS.zip', 'ben202303_MT.zip', 'ben202303_PA.zip', 'ben202303_PB.zip', 'ben202303_PE.zip', 'ben202303_PI.zip', 'ben202303_PR.zip', 'ben202303_RJ.zip', 'ben202303_RN.zip', 'ben202303_RO.zip', 'ben202303_RR.zip', 'ben202303_RS.zip', 'ben202303_SC.zip', 'ben202303_SE.zip', 'ben202303_SP.zip', 'ben202303_TO.zip', 'ben202303_XX.zip'] estão prontos para processamento.\n",
      "\n",
      "Conectado!\n",
      "Iniciando o processo de importação no Banco de Dados.\n",
      "\n",
      "Atualização da base de dados realizada!\n",
      "Conexão encerrada!\n"
     ]
    }
   ],
   "source": [
    "web_scraping()"
   ]
  }
 ],
 "metadata": {
  "kernelspec": {
   "display_name": "Python 3 (ipykernel)",
   "language": "python",
   "name": "python3"
  },
  "language_info": {
   "codemirror_mode": {
    "name": "ipython",
    "version": 3
   },
   "file_extension": ".py",
   "mimetype": "text/x-python",
   "name": "python",
   "nbconvert_exporter": "python",
   "pygments_lexer": "ipython3",
   "version": "3.10.9"
  },
  "latex_envs": {
   "LaTeX_envs_menu_present": true,
   "autoclose": false,
   "autocomplete": true,
   "bibliofile": "biblio.bib",
   "cite_by": "apalike",
   "current_citInitial": 1,
   "eqLabelWithNumbers": true,
   "eqNumInitial": 1,
   "hotkeys": {
    "equation": "Ctrl-E",
    "itemize": "Ctrl-I"
   },
   "labels_anchors": false,
   "latex_user_defs": false,
   "report_style_numbering": false,
   "user_envs_cfg": false
  },
  "toc": {
   "base_numbering": 1,
   "nav_menu": {},
   "number_sections": true,
   "sideBar": true,
   "skip_h1_title": false,
   "title_cell": "Table of Contents",
   "title_sidebar": "Contents",
   "toc_cell": false,
   "toc_position": {},
   "toc_section_display": true,
   "toc_window_display": false
  },
  "varInspector": {
   "cols": {
    "lenName": 16,
    "lenType": 16,
    "lenVar": 40
   },
   "kernels_config": {
    "python": {
     "delete_cmd_postfix": "",
     "delete_cmd_prefix": "del ",
     "library": "var_list.py",
     "varRefreshCmd": "print(var_dic_list())"
    },
    "r": {
     "delete_cmd_postfix": ") ",
     "delete_cmd_prefix": "rm(",
     "library": "var_list.r",
     "varRefreshCmd": "cat(var_dic_list()) "
    }
   },
   "types_to_exclude": [
    "module",
    "function",
    "builtin_function_or_method",
    "instance",
    "_Feature"
   ],
   "window_display": false
  }
 },
 "nbformat": 4,
 "nbformat_minor": 5
}
