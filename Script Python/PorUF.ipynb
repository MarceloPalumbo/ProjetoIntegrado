{
 "cells": [
  {
   "cell_type": "markdown",
   "id": "49bd190f",
   "metadata": {},
   "source": [
    "### Teste\n",
    "\n",
    "Verificar o tamanho da base quando tiramos a granaloridade de ibge e passamos para uf"
   ]
  },
  {
   "cell_type": "code",
   "execution_count": 9,
   "id": "4cb9faf5",
   "metadata": {
    "ExecuteTime": {
     "end_time": "2023-04-11T22:30:37.428468Z",
     "start_time": "2023-04-11T22:30:36.819918Z"
    }
   },
   "outputs": [],
   "source": [
    "from bs4 import BeautifulSoup\n",
    "import requests\n",
    "import pandas as pd\n",
    "import numpy as np\n",
    "import zipfile as zf\n",
    "import os\n",
    "from io import BytesIO\n",
    "import warnings\n",
    "import mysql.connector\n",
    "from mysql.connector import Error\n",
    "import MySQLdb\n",
    "\n",
    "warnings.filterwarnings('ignore')"
   ]
  },
  {
   "cell_type": "code",
   "execution_count": 10,
   "id": "5c092aea",
   "metadata": {
    "ExecuteTime": {
     "end_time": "2023-04-11T22:33:50.913625Z",
     "start_time": "2023-04-11T22:33:50.856214Z"
    }
   },
   "outputs": [],
   "source": [
    "from IPython import get_ipython\n",
    "from nbformat import read\n",
    "from IPython.core.interactiveshell import InteractiveShell"
   ]
  },
  {
   "cell_type": "code",
   "execution_count": 11,
   "id": "6ebbdbf8",
   "metadata": {},
   "outputs": [],
   "source": [
    "def dadosDB():\n",
    "    '''\n",
    "    Efetua a leitura do arquivo com as informações necessárias para acessar o banco de dados\n",
    "    e criar o conector para acessar o banco de dados.\n",
    "    '''\n",
    "    global con\n",
    "    with open('./pass/pass.txt') as file:\n",
    "        lista = file.readlines()\n",
    "        lista = list(x.replace('\\n', '') for x in lista)\n",
    "    con = mysql.connector.connect(host=lista[0], database=lista[1], user=lista[2], password=lista[3])\n",
    "    return con"
   ]
  },
  {
   "cell_type": "code",
   "execution_count": 12,
   "id": "0ec5e67a",
   "metadata": {},
   "outputs": [],
   "source": [
    "def conectar():\n",
    "    '''\n",
    "    Efetua a conexão com o banco de dados.\n",
    "    Lê os dados necessário para conexão na função dadosDB().\n",
    "    '''\n",
    "    try:\n",
    "        global con, cursor\n",
    "        con = dadosDB()\n",
    "        cursor = con.cursor()\n",
    "        print('Conectado!')\n",
    "    except Error as erro:\n",
    "        print('Erro de conexão')"
   ]
  },
  {
   "cell_type": "code",
   "execution_count": 13,
   "id": "fe9cafce",
   "metadata": {},
   "outputs": [],
   "source": [
    "def finalizar():\n",
    "    '''\n",
    "    Irá finalizar a conexão após realizar a solicitação no DB.\n",
    "    '''\n",
    "    #dadosDB()\n",
    "    if con.is_connected():\n",
    "        cursor.close()\n",
    "        con.close()\n",
    "        print('Conexão encerrada!')"
   ]
  },
  {
   "cell_type": "code",
   "execution_count": 14,
   "id": "2c9f1d50",
   "metadata": {},
   "outputs": [],
   "source": [
    "def AnoMes_Distinct():\n",
    "    '''\n",
    "    Query que irá trazer de forma distinta os meses que foram  importados (Campo AnoMes da tabela beneficiariosconsolidado)\n",
    "    '''\n",
    "    global AnoMes\n",
    "    consulta_sql = \"select distinct AnoMes from beneficiariosconsolidadoUF\"\n",
    "    dfa = pd.read_sql(consulta_sql, dadosDB())\n",
    "    print('Consulta no banco de dados realizada!\\n')\n",
    "    AnoMes = list(str(x) for x in dfa['AnoMes']) #pegando a coluna AnoMes do df e passando para uma lista\n",
    "    #finalizar()\n",
    "    return AnoMes"
   ]
  },
  {
   "cell_type": "code",
   "execution_count": 15,
   "id": "9d3affd8",
   "metadata": {},
   "outputs": [],
   "source": [
    "def importar_base(base):\n",
    "    '''\n",
    "    Função que irá importar para a tabela beneficiariosconsolidado do banco de dados a base de beneficiarios que foi \n",
    "    carregar e tratada.\n",
    "    '''\n",
    "    try:\n",
    "        conectar()\n",
    "        cursor = con.cursor()\n",
    "        print('Iniciando o processo de importação no Banco de Dados.\\n')\n",
    "        for x in base.index:\n",
    "            sql = \"\"\"\n",
    "                INSERT INTO BeneficiariosConsolidadoUF (AnoMes, UF, Sexo, Faixa_Etaria,\n",
    "                Cobertura_Assitencial_Plan, Tipo_Vinculo, Qtd_Benef_Ativos, Qtd_Benef_Aderidos, Qtd_Benef_Cancelados)\n",
    "                values(\"%s\", \"%s\", \"%s\", \"%s\", \"%s\", \"%s\", \"%s\", \"%s\", \"%s\");\n",
    "                \"\"\" % (base['AnoMes'][x], base['UF'][x], base['Sexo'][x],\n",
    "                       base['Faixa_Etaria'][x], base['Cobertura_Assitencial_Plan'][x], base['Tipo_Vinculo'][x], base['Qtd_Benef_Ativos'][x], \n",
    "                       base['Qtd_Benef_Aderidos'][x], base['Qtd_Benef_Cancelados'][x])\n",
    "            cursor.execute(sql)\n",
    "        con.commit()\n",
    "        print('Atualização da base de dados realizada!')\n",
    "    except MySQLdb.ProgrammingError as error :\n",
    "        print(\"Database Failed!!\")\n",
    "        con.rollback()\n",
    "    finally:\n",
    "        finalizar() "
   ]
  },
  {
   "cell_type": "code",
   "execution_count": 16,
   "id": "58a39f10",
   "metadata": {},
   "outputs": [],
   "source": [
    "def select_base():\n",
    "    global baseDB\n",
    "    #planos = pd.DataFrame()\n",
    "    consulta = \"select * from BeneficiariosConsolidadoUF\"\n",
    "    baseDB = pd.read_sql(consulta, dadosDB())\n",
    "    return baseDB"
   ]
  },
  {
   "cell_type": "code",
   "execution_count": 9,
   "id": "8be07764",
   "metadata": {
    "ExecuteTime": {
     "end_time": "2023-04-11T22:36:55.861673Z",
     "start_time": "2023-04-11T22:36:55.849509Z"
    }
   },
   "outputs": [],
   "source": [
    "def temp(tag_meses, escolha):\n",
    "    # Função temporaria que irá definir quantos meses serão executados para carregar no DB.\n",
    "    # Devido o processo ser lento, preciso implentar essa função para particionar as cargas\n",
    "    # Recebe as variaveis escolha (indica quantos meses será processado) e tag_meses(variável com os meses que tem para\n",
    "    # para processar)\n",
    "    tag_meses = tag_meses[0:escolha]\n",
    "    return tag_meses"
   ]
  },
  {
   "cell_type": "code",
   "execution_count": 17,
   "id": "e51e05ba",
   "metadata": {
    "ExecuteTime": {
     "end_time": "2023-04-11T22:39:40.356749Z",
     "start_time": "2023-04-11T22:39:40.345356Z"
    }
   },
   "outputs": [],
   "source": [
    "def web_scraping_meses():\n",
    "    '''\n",
    "    Função que irá acessar o site https://dadosabertos.ans.gov.br/FTP/PDA/informacoes_consolidadas_de_beneficiarios/,\n",
    "    percorrer os links referente aos meses e salvar em uma variável \n",
    "    '''\n",
    "    global tag_meses\n",
    "    #escolha = int(input('Quantos meses serão processados: '))\n",
    "    html = requests.get(\"https://dadosabertos.ans.gov.br/FTP/PDA/informacoes_consolidadas_de_beneficiarios/\").content\n",
    "    soup = BeautifulSoup(html, 'html.parser')\n",
    "    tags = soup.find_all('a') # salvando as tags a\n",
    "    print('Analizados os links na página web.\\n')\n",
    "    tag_meses = []\n",
    "    AnoMes = AnoMes_Distinct()\n",
    "    for tag in tags:\n",
    "        tag_meses.append(tag.getText()) # salvando os textos que estão dentro das tags\n",
    "    tag_meses = list(filter(lambda x: x[0:1].lower() in '20', tag_meses)) # separando apenas as strings que começa com '20'\n",
    "    tag_meses = [x.rstrip('/') for x in tag_meses] # removendo a / no final da string\n",
    "    tag_meses = [x for x in tag_meses if x not in AnoMes] # removendo o AnoMes que já está processado no banco\n",
    "    #tag_meses = temp(tag_meses, escolha)\n",
    "    print('Meses validados e separados para processamento.\\n')\n",
    "    # arquivos = link_meses(tag_meses)\n",
    "    return tag_meses"
   ]
  },
  {
   "cell_type": "code",
   "execution_count": 11,
   "id": "aa2cef02",
   "metadata": {
    "ExecuteTime": {
     "end_time": "2023-04-11T22:39:41.906153Z",
     "start_time": "2023-04-11T22:39:41.897904Z"
    }
   },
   "outputs": [],
   "source": [
    "def web_scraping_files(tag_meses, x):\n",
    "    '''\n",
    "    Função que irá pegar os valores da lista tag_meses que foi salvo no função web_scraping_meses e percorrer cada string\n",
    "    para ir na página web referente aquele link e separar os links (nomes) dos arquivos que deverá realizar o download.\n",
    "    '''\n",
    "    global arquivos\n",
    "    link = 'https://dadosabertos.ans.gov.br/FTP/PDA/informacoes_consolidadas_de_beneficiarios/'\n",
    "    #for x in tag_meses:\n",
    "    html_m = requests.get(f\"{link}{x}/\").content\n",
    "    soup = BeautifulSoup(html_m, 'html.parser')\n",
    "    tags_m = soup.find_all('a')\n",
    "    tag_arquivos = []\n",
    "    # print(soup.find_all('a'))\n",
    "    for tag in tags_m:\n",
    "        tag_arquivos.append(tag.getText()) # para abrir a tag\n",
    "        #print(tag.getText()) # para abrir o texto da tag\n",
    "    arquivos = list(filter(lambda x: x[0:4].lower() in 'ben2', tag_arquivos))\n",
    "    print(f'Arquivos {arquivos} estão prontos para processamento.\\n')\n",
    "    return arquivos"
   ]
  },
  {
   "cell_type": "code",
   "execution_count": 12,
   "id": "6b1edab6",
   "metadata": {
    "ExecuteTime": {
     "end_time": "2023-04-11T22:39:42.395827Z",
     "start_time": "2023-04-11T22:39:42.385871Z"
    }
   },
   "outputs": [],
   "source": [
    "def import_files(arquivos, x, y):\n",
    "    '''\n",
    "    Efetua o donwload do arquivo e carrega em um dataframe temporário.\n",
    "    '''\n",
    "    global temp_df, f\n",
    "    #for y in arquivos:\n",
    "    https = f'https://dadosabertos.ans.gov.br/FTP/PDA/informacoes_consolidadas_de_beneficiarios/{x}/{y}'\n",
    "    file_zip = BytesIO(requests.get(https).content)\n",
    "    with zf.ZipFile(file_zip) as z:\n",
    "        temp = z.namelist()\n",
    "        with z.open(f'{temp[0]}') as f:\n",
    "            temp_df = pd.read_csv(f, sep=\";\", encoding = 'latin')\n",
    "    return temp_df"
   ]
  },
  {
   "cell_type": "code",
   "execution_count": 13,
   "id": "ba6ec3a0",
   "metadata": {
    "ExecuteTime": {
     "end_time": "2023-04-12T02:38:15.632107Z",
     "start_time": "2023-04-12T02:38:15.626101Z"
    }
   },
   "outputs": [],
   "source": [
    "def web_scraping():\n",
    "    '''\n",
    "    Função que unifica todos os processos de ETL para importação na tabela beneficiáriosconsolidado do DB.\n",
    "    '''\n",
    "    web_scraping_meses()\n",
    "    for x in tag_meses:\n",
    "        base = pd.DataFrame()\n",
    "        web_scraping_files(tag_meses, x)        \n",
    "        for y in arquivos:\n",
    "            import_files(arquivos, x, y)\n",
    "            group = temp_df.groupby([ '#ID_CMPT_MOVEL', 'CD_OPERADORA', 'SG_UF', 'TP_SEXO', 'DE_FAIXA_ETARIA', \n",
    "                                     'COBERTURA_ASSIST_PLAN', 'TIPO_VINCULO'])['QT_BENEFICIARIO_ATIVO', 'QT_BENEFICIARIO_ADERIDO',\n",
    "                                     'QT_BENEFICIARIO_CANCELADO'].sum().reset_index()\n",
    "            base = base.append(group, ignore_index=True)\n",
    "\n",
    "            # print(f'O arquivo {y} tem {temp_df.shape[0]} registros, totalizando {df.shape[0]} registro na tabela final.\\n')\n",
    "        base.rename(\n",
    "                columns= {'#ID_CMPT_MOVEL': 'AnoMes', 'CD_OPERADORA': 'CD_Operadora', 'SG_UF': 'UF', 'TP_SEXO': 'Sexo',\n",
    "                          'DE_FAIXA_ETARIA': 'Faixa_Etaria',\n",
    "                          'COBERTURA_ASSIST_PLAN': 'Cobertura_Assitencial_Plan','TIPO_VINCULO': 'Tipo_Vinculo',\n",
    "                          'QT_BENEFICIARIO_ATIVO': 'Qtd_Benef_Ativos', 'QT_BENEFICIARIO_ADERIDO': 'Qtd_Benef_Aderidos',\n",
    "                          'QT_BENEFICIARIO_CANCELADO': 'Qtd_Benef_Cancelados'}, inplace = True)\n",
    "        base.to_csv(f\"D:/Arquivos/{x}.csv\")\n",
    "        base = base.groupby(['AnoMes', 'UF', 'Sexo', 'Faixa_Etaria', 'Cobertura_Assitencial_Plan', \n",
    "                                'Tipo_Vinculo'])['Qtd_Benef_Ativos', 'Qtd_Benef_Aderidos',\n",
    "                                     'Qtd_Benef_Cancelados'].sum().reset_index()\n",
    "        importar_base(base)\n",
    "    return base"
   ]
  },
  {
   "cell_type": "code",
   "execution_count": 20,
   "id": "f6dcf597",
   "metadata": {
    "ExecuteTime": {
     "end_time": "2023-04-12T02:39:47.500798Z",
     "start_time": "2023-04-12T02:38:20.427620Z"
    }
   },
   "outputs": [
    {
     "name": "stdout",
     "output_type": "stream",
     "text": [
      "Analizados os links na página web.\n",
      "\n",
      "Consulta no banco de dados realizada!\n",
      "\n",
      "Meses validados e separados para processamento.\n",
      "\n",
      "Arquivos ['ben202302_AC.zip', 'ben202302_AL.zip', 'ben202302_AM.zip', 'ben202302_AP.zip', 'ben202302_BA.zip', 'ben202302_CE.zip', 'ben202302_DF.zip', 'ben202302_ES.zip', 'ben202302_GO.zip', 'ben202302_MA.zip', 'ben202302_MG.zip', 'ben202302_MS.zip', 'ben202302_MT.zip', 'ben202302_PA.zip', 'ben202302_PB.zip', 'ben202302_PE.zip', 'ben202302_PI.zip', 'ben202302_PR.zip', 'ben202302_RJ.zip', 'ben202302_RN.zip', 'ben202302_RO.zip', 'ben202302_RR.zip', 'ben202302_RS.zip', 'ben202302_SC.zip', 'ben202302_SE.zip', 'ben202302_SP.zip', 'ben202302_TO.zip', 'ben202302_XX.zip'] estão prontos para processamento.\n",
      "\n",
      "Conectado!\n",
      "Iniciando o processo de importação no Banco de Dados.\n",
      "\n",
      "Atualização da base de dados realizada!\n",
      "Conexão encerrada!\n",
      "Arquivos ['ben202303_AC.zip', 'ben202303_AL.zip', 'ben202303_AM.zip', 'ben202303_AP.zip', 'ben202303_BA.zip', 'ben202303_CE.zip', 'ben202303_DF.zip', 'ben202303_ES.zip', 'ben202303_GO.zip', 'ben202303_MA.zip', 'ben202303_MG.zip', 'ben202303_MS.zip', 'ben202303_MT.zip', 'ben202303_PA.zip', 'ben202303_PB.zip', 'ben202303_PE.zip', 'ben202303_PI.zip', 'ben202303_PR.zip', 'ben202303_RJ.zip', 'ben202303_RN.zip', 'ben202303_RO.zip', 'ben202303_RR.zip', 'ben202303_RS.zip', 'ben202303_SC.zip', 'ben202303_SE.zip', 'ben202303_SP.zip', 'ben202303_TO.zip', 'ben202303_XX.zip'] estão prontos para processamento.\n",
      "\n",
      "Conectado!\n",
      "Iniciando o processo de importação no Banco de Dados.\n",
      "\n",
      "Atualização da base de dados realizada!\n",
      "Conexão encerrada!\n"
     ]
    }
   ],
   "source": [
    "base = web_scraping()"
   ]
  },
  {
   "cell_type": "code",
   "execution_count": 72,
   "id": "f4a42df8",
   "metadata": {
    "ExecuteTime": {
     "end_time": "2023-04-12T02:39:47.574890Z",
     "start_time": "2023-04-12T02:39:47.559921Z"
    }
   },
   "outputs": [
    {
     "data": {
      "text/html": [
       "<div>\n",
       "<style scoped>\n",
       "    .dataframe tbody tr th:only-of-type {\n",
       "        vertical-align: middle;\n",
       "    }\n",
       "\n",
       "    .dataframe tbody tr th {\n",
       "        vertical-align: top;\n",
       "    }\n",
       "\n",
       "    .dataframe thead th {\n",
       "        text-align: right;\n",
       "    }\n",
       "</style>\n",
       "<table border=\"1\" class=\"dataframe\">\n",
       "  <thead>\n",
       "    <tr style=\"text-align: right;\">\n",
       "      <th></th>\n",
       "      <th>AnoMes</th>\n",
       "      <th>UF</th>\n",
       "      <th>Sexo</th>\n",
       "      <th>Faixa_Etaria</th>\n",
       "      <th>Cobertura_Assitencial_Plan</th>\n",
       "      <th>Tipo_Vinculo</th>\n",
       "      <th>Qtd_Benef_Ativos</th>\n",
       "      <th>Qtd_Benef_Aderidos</th>\n",
       "      <th>Qtd_Benef_Cancelados</th>\n",
       "    </tr>\n",
       "  </thead>\n",
       "  <tbody>\n",
       "    <tr>\n",
       "      <th>0</th>\n",
       "      <td>201406</td>\n",
       "      <td>AC</td>\n",
       "      <td>F</td>\n",
       "      <td>00 a 05 anos</td>\n",
       "      <td>Médico-hospitalar</td>\n",
       "      <td>DEPENDENTE</td>\n",
       "      <td>1266</td>\n",
       "      <td>41</td>\n",
       "      <td>11</td>\n",
       "    </tr>\n",
       "    <tr>\n",
       "      <th>1</th>\n",
       "      <td>201406</td>\n",
       "      <td>AC</td>\n",
       "      <td>F</td>\n",
       "      <td>00 a 05 anos</td>\n",
       "      <td>Médico-hospitalar</td>\n",
       "      <td>TITULAR</td>\n",
       "      <td>750</td>\n",
       "      <td>17</td>\n",
       "      <td>11</td>\n",
       "    </tr>\n",
       "    <tr>\n",
       "      <th>2</th>\n",
       "      <td>201406</td>\n",
       "      <td>AC</td>\n",
       "      <td>F</td>\n",
       "      <td>00 a 05 anos</td>\n",
       "      <td>Não identificado</td>\n",
       "      <td>DEPENDENTE</td>\n",
       "      <td>6</td>\n",
       "      <td>0</td>\n",
       "      <td>0</td>\n",
       "    </tr>\n",
       "    <tr>\n",
       "      <th>3</th>\n",
       "      <td>201406</td>\n",
       "      <td>AC</td>\n",
       "      <td>F</td>\n",
       "      <td>00 a 05 anos</td>\n",
       "      <td>Não identificado</td>\n",
       "      <td>TITULAR</td>\n",
       "      <td>1</td>\n",
       "      <td>0</td>\n",
       "      <td>0</td>\n",
       "    </tr>\n",
       "    <tr>\n",
       "      <th>4</th>\n",
       "      <td>201406</td>\n",
       "      <td>AC</td>\n",
       "      <td>F</td>\n",
       "      <td>00 a 05 anos</td>\n",
       "      <td>Odontológico</td>\n",
       "      <td>DEPENDENTE</td>\n",
       "      <td>157</td>\n",
       "      <td>8</td>\n",
       "      <td>3</td>\n",
       "    </tr>\n",
       "  </tbody>\n",
       "</table>\n",
       "</div>"
      ],
      "text/plain": [
       "   AnoMes  UF Sexo  Faixa_Etaria Cobertura_Assitencial_Plan Tipo_Vinculo  \\\n",
       "0  201406  AC    F  00 a 05 anos          Médico-hospitalar   DEPENDENTE   \n",
       "1  201406  AC    F  00 a 05 anos          Médico-hospitalar      TITULAR   \n",
       "2  201406  AC    F  00 a 05 anos           Não identificado   DEPENDENTE   \n",
       "3  201406  AC    F  00 a 05 anos           Não identificado      TITULAR   \n",
       "4  201406  AC    F  00 a 05 anos               Odontológico   DEPENDENTE   \n",
       "\n",
       "   Qtd_Benef_Ativos  Qtd_Benef_Aderidos  Qtd_Benef_Cancelados  \n",
       "0              1266                  41                    11  \n",
       "1               750                  17                    11  \n",
       "2                 6                   0                     0  \n",
       "3                 1                   0                     0  \n",
       "4               157                   8                     3  "
      ]
     },
     "execution_count": 72,
     "metadata": {},
     "output_type": "execute_result"
    }
   ],
   "source": [
    "base.head()"
   ]
  },
  {
   "cell_type": "code",
   "execution_count": 17,
   "id": "40a8ae42",
   "metadata": {
    "ExecuteTime": {
     "end_time": "2023-04-12T02:37:31.554403Z",
     "start_time": "2023-04-12T02:37:31.554403Z"
    },
    "collapsed": true
   },
   "outputs": [],
   "source": [
    "teste = base.groupby([ '#ID_CMPT_MOVEL', 'CD_OPERADORA', 'SG_UF', 'TP_SEXO', 'DE_FAIXA_ETARIA', 'COBERTURA_ASSIST_PLAN', 'TIPO_VINCULO'])['QT_BENEFICIARIO_ATIVO', 'QT_BENEFICIARIO_ADERIDO',\n",
    "       'QT_BENEFICIARIO_CANCELADO'].sum().reset_index()\n"
   ]
  },
  {
   "cell_type": "code",
   "execution_count": 59,
   "id": "15af78d2",
   "metadata": {
    "ExecuteTime": {
     "end_time": "2023-04-12T02:40:18.666945Z",
     "start_time": "2023-04-12T02:40:18.643008Z"
    }
   },
   "outputs": [
    {
     "data": {
      "text/html": [
       "<div>\n",
       "<style scoped>\n",
       "    .dataframe tbody tr th:only-of-type {\n",
       "        vertical-align: middle;\n",
       "    }\n",
       "\n",
       "    .dataframe tbody tr th {\n",
       "        vertical-align: top;\n",
       "    }\n",
       "\n",
       "    .dataframe thead th {\n",
       "        text-align: right;\n",
       "    }\n",
       "</style>\n",
       "<table border=\"1\" class=\"dataframe\">\n",
       "  <thead>\n",
       "    <tr style=\"text-align: right;\">\n",
       "      <th></th>\n",
       "      <th>AnoMes</th>\n",
       "      <th>UF</th>\n",
       "      <th>Sexo</th>\n",
       "      <th>Faixa_Etaria</th>\n",
       "      <th>Cobertura_Assitencial_Plan</th>\n",
       "      <th>Tipo_Vinculo</th>\n",
       "      <th>Qtd_Benef_Ativos</th>\n",
       "      <th>Qtd_Benef_Aderidos</th>\n",
       "      <th>Qtd_Benef_Cancelados</th>\n",
       "    </tr>\n",
       "  </thead>\n",
       "  <tbody>\n",
       "    <tr>\n",
       "      <th>0</th>\n",
       "      <td>201407</td>\n",
       "      <td>AC</td>\n",
       "      <td>F</td>\n",
       "      <td>36 a 40 anos</td>\n",
       "      <td>Médico-hospitalar</td>\n",
       "      <td>TITULAR</td>\n",
       "      <td>1</td>\n",
       "      <td>0</td>\n",
       "      <td>0</td>\n",
       "    </tr>\n",
       "    <tr>\n",
       "      <th>1</th>\n",
       "      <td>201407</td>\n",
       "      <td>AC</td>\n",
       "      <td>F</td>\n",
       "      <td>00 a 05 anos</td>\n",
       "      <td>Médico-hospitalar</td>\n",
       "      <td>DEPENDENTE</td>\n",
       "      <td>1</td>\n",
       "      <td>0</td>\n",
       "      <td>0</td>\n",
       "    </tr>\n",
       "    <tr>\n",
       "      <th>2</th>\n",
       "      <td>201407</td>\n",
       "      <td>AC</td>\n",
       "      <td>F</td>\n",
       "      <td>21 a 25 anos</td>\n",
       "      <td>Médico-hospitalar</td>\n",
       "      <td>DEPENDENTE</td>\n",
       "      <td>1</td>\n",
       "      <td>0</td>\n",
       "      <td>0</td>\n",
       "    </tr>\n",
       "    <tr>\n",
       "      <th>3</th>\n",
       "      <td>201407</td>\n",
       "      <td>AC</td>\n",
       "      <td>M</td>\n",
       "      <td>31 a 35 anos</td>\n",
       "      <td>Médico-hospitalar</td>\n",
       "      <td>TITULAR</td>\n",
       "      <td>3</td>\n",
       "      <td>0</td>\n",
       "      <td>0</td>\n",
       "    </tr>\n",
       "    <tr>\n",
       "      <th>4</th>\n",
       "      <td>201407</td>\n",
       "      <td>AC</td>\n",
       "      <td>F</td>\n",
       "      <td>31 a 35 anos</td>\n",
       "      <td>Odontológico</td>\n",
       "      <td>DEPENDENTE</td>\n",
       "      <td>1</td>\n",
       "      <td>0</td>\n",
       "      <td>0</td>\n",
       "    </tr>\n",
       "    <tr>\n",
       "      <th>...</th>\n",
       "      <td>...</td>\n",
       "      <td>...</td>\n",
       "      <td>...</td>\n",
       "      <td>...</td>\n",
       "      <td>...</td>\n",
       "      <td>...</td>\n",
       "      <td>...</td>\n",
       "      <td>...</td>\n",
       "      <td>...</td>\n",
       "    </tr>\n",
       "    <tr>\n",
       "      <th>604285</th>\n",
       "      <td>201407</td>\n",
       "      <td>XX</td>\n",
       "      <td>F</td>\n",
       "      <td>56 a 60 anos</td>\n",
       "      <td>Médico-hospitalar</td>\n",
       "      <td>TITULAR</td>\n",
       "      <td>5</td>\n",
       "      <td>0</td>\n",
       "      <td>0</td>\n",
       "    </tr>\n",
       "    <tr>\n",
       "      <th>604286</th>\n",
       "      <td>201407</td>\n",
       "      <td>XX</td>\n",
       "      <td>F</td>\n",
       "      <td>61 ou mais</td>\n",
       "      <td>Médico-hospitalar</td>\n",
       "      <td>TITULAR</td>\n",
       "      <td>1</td>\n",
       "      <td>0</td>\n",
       "      <td>0</td>\n",
       "    </tr>\n",
       "    <tr>\n",
       "      <th>604287</th>\n",
       "      <td>201407</td>\n",
       "      <td>XX</td>\n",
       "      <td>M</td>\n",
       "      <td>51 a 55 anos</td>\n",
       "      <td>Médico-hospitalar</td>\n",
       "      <td>TITULAR</td>\n",
       "      <td>5</td>\n",
       "      <td>0</td>\n",
       "      <td>0</td>\n",
       "    </tr>\n",
       "    <tr>\n",
       "      <th>604288</th>\n",
       "      <td>201407</td>\n",
       "      <td>XX</td>\n",
       "      <td>M</td>\n",
       "      <td>56 a 60 anos</td>\n",
       "      <td>Médico-hospitalar</td>\n",
       "      <td>TITULAR</td>\n",
       "      <td>3</td>\n",
       "      <td>0</td>\n",
       "      <td>0</td>\n",
       "    </tr>\n",
       "    <tr>\n",
       "      <th>604289</th>\n",
       "      <td>201407</td>\n",
       "      <td>XX</td>\n",
       "      <td>M</td>\n",
       "      <td>61 ou mais</td>\n",
       "      <td>Médico-hospitalar</td>\n",
       "      <td>TITULAR</td>\n",
       "      <td>6</td>\n",
       "      <td>0</td>\n",
       "      <td>0</td>\n",
       "    </tr>\n",
       "  </tbody>\n",
       "</table>\n",
       "<p>604290 rows × 9 columns</p>\n",
       "</div>"
      ],
      "text/plain": [
       "        AnoMes  UF Sexo  Faixa_Etaria Cobertura_Assitencial_Plan Tipo_Vinculo  \\\n",
       "0       201407  AC    F  36 a 40 anos          Médico-hospitalar      TITULAR   \n",
       "1       201407  AC    F  00 a 05 anos          Médico-hospitalar   DEPENDENTE   \n",
       "2       201407  AC    F  21 a 25 anos          Médico-hospitalar   DEPENDENTE   \n",
       "3       201407  AC    M  31 a 35 anos          Médico-hospitalar      TITULAR   \n",
       "4       201407  AC    F  31 a 35 anos               Odontológico   DEPENDENTE   \n",
       "...        ...  ..  ...           ...                        ...          ...   \n",
       "604285  201407  XX    F  56 a 60 anos          Médico-hospitalar      TITULAR   \n",
       "604286  201407  XX    F    61 ou mais          Médico-hospitalar      TITULAR   \n",
       "604287  201407  XX    M  51 a 55 anos          Médico-hospitalar      TITULAR   \n",
       "604288  201407  XX    M  56 a 60 anos          Médico-hospitalar      TITULAR   \n",
       "604289  201407  XX    M    61 ou mais          Médico-hospitalar      TITULAR   \n",
       "\n",
       "        Qtd_Benef_Ativos  Qtd_Benef_Aderidos  Qtd_Benef_Cancelados  \n",
       "0                      1                   0                     0  \n",
       "1                      1                   0                     0  \n",
       "2                      1                   0                     0  \n",
       "3                      3                   0                     0  \n",
       "4                      1                   0                     0  \n",
       "...                  ...                 ...                   ...  \n",
       "604285                 5                   0                     0  \n",
       "604286                 1                   0                     0  \n",
       "604287                 5                   0                     0  \n",
       "604288                 3                   0                     0  \n",
       "604289                 6                   0                     0  \n",
       "\n",
       "[604290 rows x 9 columns]"
      ]
     },
     "execution_count": 59,
     "metadata": {},
     "output_type": "execute_result"
    }
   ],
   "source": [
    "ver = select_base()\n",
    "ver"
   ]
  },
  {
   "cell_type": "code",
   "execution_count": 51,
   "id": "0079185f",
   "metadata": {},
   "outputs": [
    {
     "data": {
      "text/plain": [
       "AnoMes\n",
       "201405    834113364\n",
       "Name: Qtd_Benef_Ativos, dtype: int64"
      ]
     },
     "execution_count": 51,
     "metadata": {},
     "output_type": "execute_result"
    }
   ],
   "source": [
    "ver.groupby('AnoMes')['Qtd_Benef_Ativos'].sum()"
   ]
  },
  {
   "cell_type": "code",
   "execution_count": 130,
   "id": "4f66de60",
   "metadata": {},
   "outputs": [
    {
     "name": "stdout",
     "output_type": "stream",
     "text": [
      "Conectado!\n"
     ]
    }
   ],
   "source": [
    "conectar()\n",
    "cursor = con.cursor()\n",
    "sql = \"DROP TABLE IF EXISTS beneficiariosconsolidadouf\"\n",
    "cursor.execute(sql)"
   ]
  },
  {
   "cell_type": "code",
   "execution_count": 60,
   "id": "c23e534e",
   "metadata": {},
   "outputs": [
    {
     "name": "stdout",
     "output_type": "stream",
     "text": [
      "Conexão encerrada!\n"
     ]
    }
   ],
   "source": [
    "finalizar()"
   ]
  },
  {
   "cell_type": "code",
   "execution_count": 76,
   "id": "ccf3cb23",
   "metadata": {},
   "outputs": [
    {
     "ename": "NameError",
     "evalue": "name 'df' is not defined",
     "output_type": "error",
     "traceback": [
      "\u001b[1;31m---------------------------------------------------------------------------\u001b[0m",
      "\u001b[1;31mNameError\u001b[0m                                 Traceback (most recent call last)",
      "Cell \u001b[1;32mIn[76], line 1\u001b[0m\n\u001b[1;32m----> 1\u001b[0m \u001b[43mdf\u001b[49m\u001b[38;5;241m.\u001b[39mhead()\n",
      "\u001b[1;31mNameError\u001b[0m: name 'df' is not defined"
     ]
    }
   ],
   "source": [
    "df.head()"
   ]
  },
  {
   "cell_type": "code",
   "execution_count": 18,
   "id": "c8c68a1d",
   "metadata": {},
   "outputs": [
    {
     "name": "stdout",
     "output_type": "stream",
     "text": [
      "Analizados os links na página web.\n",
      "\n",
      "Consulta no banco de dados realizada!\n",
      "\n",
      "Meses validados e separados para processamento.\n",
      "\n"
     ]
    }
   ],
   "source": [
    "teste = web_scraping_meses()"
   ]
  },
  {
   "cell_type": "code",
   "execution_count": 19,
   "id": "d931b1cc",
   "metadata": {},
   "outputs": [
    {
     "data": {
      "text/plain": [
       "['202302', '202303']"
      ]
     },
     "execution_count": 19,
     "metadata": {},
     "output_type": "execute_result"
    }
   ],
   "source": [
    "teste"
   ]
  },
  {
   "cell_type": "code",
   "execution_count": null,
   "id": "72a68d6a",
   "metadata": {},
   "outputs": [],
   "source": []
  }
 ],
 "metadata": {
  "kernelspec": {
   "display_name": "Python 3 (ipykernel)",
   "language": "python",
   "name": "python3"
  },
  "language_info": {
   "codemirror_mode": {
    "name": "ipython",
    "version": 3
   },
   "file_extension": ".py",
   "mimetype": "text/x-python",
   "name": "python",
   "nbconvert_exporter": "python",
   "pygments_lexer": "ipython3",
   "version": "3.10.9"
  },
  "latex_envs": {
   "LaTeX_envs_menu_present": true,
   "autoclose": false,
   "autocomplete": true,
   "bibliofile": "biblio.bib",
   "cite_by": "apalike",
   "current_citInitial": 1,
   "eqLabelWithNumbers": true,
   "eqNumInitial": 1,
   "hotkeys": {
    "equation": "Ctrl-E",
    "itemize": "Ctrl-I"
   },
   "labels_anchors": false,
   "latex_user_defs": false,
   "report_style_numbering": false,
   "user_envs_cfg": false
  },
  "toc": {
   "base_numbering": 1,
   "nav_menu": {},
   "number_sections": true,
   "sideBar": true,
   "skip_h1_title": false,
   "title_cell": "Table of Contents",
   "title_sidebar": "Contents",
   "toc_cell": false,
   "toc_position": {},
   "toc_section_display": true,
   "toc_window_display": false
  },
  "varInspector": {
   "cols": {
    "lenName": 16,
    "lenType": 16,
    "lenVar": 40
   },
   "kernels_config": {
    "python": {
     "delete_cmd_postfix": "",
     "delete_cmd_prefix": "del ",
     "library": "var_list.py",
     "varRefreshCmd": "print(var_dic_list())"
    },
    "r": {
     "delete_cmd_postfix": ") ",
     "delete_cmd_prefix": "rm(",
     "library": "var_list.r",
     "varRefreshCmd": "cat(var_dic_list()) "
    }
   },
   "types_to_exclude": [
    "module",
    "function",
    "builtin_function_or_method",
    "instance",
    "_Feature"
   ],
   "window_display": false
  }
 },
 "nbformat": 4,
 "nbformat_minor": 5
}
