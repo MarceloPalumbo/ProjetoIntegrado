{
 "cells": [
  {
   "cell_type": "markdown",
   "id": "c26e659b",
   "metadata": {},
   "source": [
    "Script que irá criar as comunicações com o banco de dados"
   ]
  },
  {
   "cell_type": "code",
   "execution_count": 1,
   "id": "544ba4d4",
   "metadata": {
    "ExecuteTime": {
     "end_time": "2023-06-28T17:38:04.037958Z",
     "start_time": "2023-06-28T17:38:03.609865Z"
    }
   },
   "outputs": [],
   "source": [
    "import requests\n",
    "import os\n",
    "from io import BytesIO\n",
    "import warnings\n",
    "import mysql.connector\n",
    "from mysql.connector import Error\n",
    "import MySQLdb"
   ]
  },
  {
   "cell_type": "code",
   "execution_count": 2,
   "id": "391071ea",
   "metadata": {
    "ExecuteTime": {
     "end_time": "2023-06-28T17:38:04.084172Z",
     "start_time": "2023-06-28T17:38:04.071005Z"
    }
   },
   "outputs": [],
   "source": [
    "def dadosDB():\n",
    "    '''\n",
    "    Efetua a leitura do arquivo com as informações necessárias para acessar o banco de dados\n",
    "    e criar o conector para acessar o banco de dados.\n",
    "    '''\n",
    "    global con\n",
    "    with open('./pass/pass.txt') as file:\n",
    "        lista = file.readlines()\n",
    "        lista = list(x.replace('\\n', '') for x in lista)\n",
    "    con = mysql.connector.connect(host=lista[0], database=lista[1], user=lista[2], password=lista[3], auth_plugin='mysql_native_password')\n",
    "    return con"
   ]
  },
  {
   "cell_type": "code",
   "execution_count": 3,
   "id": "270a19b5",
   "metadata": {
    "ExecuteTime": {
     "end_time": "2023-06-28T17:38:04.936722Z",
     "start_time": "2023-06-28T17:38:04.921775Z"
    }
   },
   "outputs": [],
   "source": [
    "def conectar():\n",
    "    '''\n",
    "    Efetua a conexão com o banco de dados.\n",
    "    Lê os dados necessário para conexão na função dadosDB().\n",
    "    '''\n",
    "    try:\n",
    "        global con, cursor\n",
    "        con = dadosDB()\n",
    "        cursor = con.cursor()\n",
    "        print('Conectado!')\n",
    "    except Error as erro:\n",
    "        print('Erro de conexão')"
   ]
  },
  {
   "cell_type": "code",
   "execution_count": 4,
   "id": "c0a83482",
   "metadata": {
    "ExecuteTime": {
     "end_time": "2023-05-31T01:06:17.380474Z",
     "start_time": "2023-05-31T01:06:17.367209Z"
    }
   },
   "outputs": [],
   "source": [
    "def finalizar():\n",
    "    '''\n",
    "    Irá finalizar a conexão após realizar a solicitação no DB.\n",
    "    '''\n",
    "    #dadosDB()\n",
    "    if con.is_connected():\n",
    "        cursor.close()\n",
    "        con.close()\n",
    "        print('Conexão encerrada!')"
   ]
  },
  {
   "cell_type": "code",
   "execution_count": 5,
   "id": "14e07711",
   "metadata": {
    "ExecuteTime": {
     "end_time": "2023-05-31T01:06:17.395667Z",
     "start_time": "2023-05-31T01:06:17.390667Z"
    }
   },
   "outputs": [],
   "source": [
    "def select_base(select):\n",
    "    '''\n",
    "    Função para efetuar a query no DB.\n",
    "    '''\n",
    "    global baseDB\n",
    "    #planos = pd.DataFrame()\n",
    "    consulta = select\n",
    "    baseDB = pd.read_sql(consulta, dadosDB())\n",
    "    return baseDB"
   ]
  }
 ],
 "metadata": {
  "kernelspec": {
   "display_name": "Python 3 (ipykernel)",
   "language": "python",
   "name": "python3"
  },
  "language_info": {
   "codemirror_mode": {
    "name": "ipython",
    "version": 3
   },
   "file_extension": ".py",
   "mimetype": "text/x-python",
   "name": "python",
   "nbconvert_exporter": "python",
   "pygments_lexer": "ipython3",
   "version": "3.10.9"
  },
  "toc": {
   "base_numbering": 1,
   "nav_menu": {},
   "number_sections": true,
   "sideBar": true,
   "skip_h1_title": false,
   "title_cell": "Table of Contents",
   "title_sidebar": "Contents",
   "toc_cell": false,
   "toc_position": {},
   "toc_section_display": true,
   "toc_window_display": false
  },
  "varInspector": {
   "cols": {
    "lenName": 16,
    "lenType": 16,
    "lenVar": 40
   },
   "kernels_config": {
    "python": {
     "delete_cmd_postfix": "",
     "delete_cmd_prefix": "del ",
     "library": "var_list.py",
     "varRefreshCmd": "print(var_dic_list())"
    },
    "r": {
     "delete_cmd_postfix": ") ",
     "delete_cmd_prefix": "rm(",
     "library": "var_list.r",
     "varRefreshCmd": "cat(var_dic_list()) "
    }
   },
   "types_to_exclude": [
    "module",
    "function",
    "builtin_function_or_method",
    "instance",
    "_Feature"
   ],
   "window_display": false
  }
 },
 "nbformat": 4,
 "nbformat_minor": 5
}
